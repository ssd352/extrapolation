{
 "cells": [
  {
   "cell_type": "markdown",
   "metadata": {
    "colab_type": "text",
    "id": "-LjHdNP5QS6S"
   },
   "source": [
    "# Puzzle\n",
    "The objective of this neural network is to solve the following puzzle  \n",
    "![Puzzle](https://github.com/ssd352/extrapolation/raw/master/input.jpg)"
   ]
  },
  {
   "cell_type": "code",
   "execution_count": 0,
   "metadata": {
    "colab": {},
    "colab_type": "code",
    "id": "mawetLG7MX_9"
   },
   "outputs": [],
   "source": [
    "import tensorflow as tf\n",
    "import numpy as np\n",
    "\n",
    "tf.logging.set_verbosity(tf.logging.INFO)\n",
    "\n",
    "# Working sets of hyperparameters\n",
    "# 200 epochs - step size 0.1 - mse loss - sigmoid activations - 1 hidden layer with 3 neurons\n",
    "# 400 epochs - step size 2e-2 - mse loss -  tanh activations - 1 hidden layer with 3 neurons\n",
    "# 400 epochs - step size 2e-2 - Huber loss -  tanh activations - 1 hidden layer with 2 neurons\n",
    "EPOCHS = 500\n",
    "\n",
    "rate = 2e-2\n",
    "global_step = tf.Variable(0, trainable=False)\n",
    "# rate = tf.train.exponential_decay(rate, global_step, 5 * 3, 0.9, staircase=True)\n",
    "\n",
    "X_train = np.asarray([[1, 4], [2, 5], [3, 6]])\n",
    "Y_train = np.asarray([5, 12, 21])"
   ]
  },
  {
   "cell_type": "markdown",
   "metadata": {
    "colab_type": "text",
    "id": "4LF1jJzRb2ED"
   },
   "source": [
    "\n",
    "\n",
    "### Input\n",
    "Two numbers\n",
    "\n",
    "### Architecture\n",
    "\n",
    "**Layer 1: Fully Connected.** \n",
    "\n",
    "**Activation.** Tanh\n",
    "\n",
    "**Layer 2: Fully Connected.** \n",
    "\n",
    "### Output\n",
    "1 Number"
   ]
  },
  {
   "cell_type": "code",
   "execution_count": 0,
   "metadata": {
    "colab": {},
    "colab_type": "code",
    "id": "HodYREEhMYAB"
   },
   "outputs": [],
   "source": [
    "def nn(x):    \n",
    "    t1 = tf.layers.dense(x, 10, name=\"t1\", \n",
    "                         kernel_initializer=tf.contrib.layers.xavier_initializer(),\n",
    "                         activation=tf.nn.tanh)\n",
    "    t2 = tf.layers.dense(t1, 10, name=\"t2\", \n",
    "                         kernel_initializer=tf.contrib.layers.xavier_initializer(),\n",
    "                         activation=tf.nn.relu)\n",
    "    t3 = tf.layers.dense(t2, 10, name=\"t3\", \n",
    "                         kernel_initializer=tf.contrib.layers.xavier_initializer(),\n",
    "                         activation=tf.nn.relu)\n",
    "    \n",
    "    r1 = tf.layers.dense(x, 10, name=\"r1\", \n",
    "                         kernel_initializer=tf.contrib.layers.xavier_initializer(),\n",
    "                         activation=tf.nn.relu)\n",
    "    r2 = tf.layers.dense(r1, 10, name=\"r2\", \n",
    "                         kernel_initializer=tf.contrib.layers.xavier_initializer(),\n",
    "                         activation=tf.nn.relu)\n",
    "    r3 = tf.layers.dense(r2, 10, name=\"r3\", \n",
    "                         kernel_initializer=tf.contrib.layers.xavier_initializer(),\n",
    "                         activation=tf.nn.relu)\n",
    "    \n",
    "    augment = tf.concat([t3, r3, x], 1, name=\"aug\")\n",
    "    outp = tf.layers.dense(augment, 1, name=\"output\", \n",
    "                         kernel_initializer=tf.contrib.layers.xavier_initializer())\n",
    "    \n",
    "    return outp"
   ]
  },
  {
   "cell_type": "code",
   "execution_count": 0,
   "metadata": {
    "colab": {},
    "colab_type": "code",
    "id": "SBIAdBmNMYAF"
   },
   "outputs": [],
   "source": [
    "x = tf.placeholder(tf.float32, (None, 2), name=\"input_data\")\n",
    "# x = tf.placeholder(tf.float32, (None), name=\"input_data\")\n",
    "y = tf.placeholder(tf.int32, (None), name='true_labels')"
   ]
  },
  {
   "cell_type": "code",
   "execution_count": 0,
   "metadata": {
    "colab": {},
    "colab_type": "code",
    "id": "Y-rn35mTMYAJ"
   },
   "outputs": [],
   "source": [
    "logits = nn(x)\n",
    "optimizer = tf.train.AdamOptimizer(learning_rate = rate)"
   ]
  },
  {
   "cell_type": "code",
   "execution_count": 0,
   "metadata": {
    "colab": {},
    "colab_type": "code",
    "id": "NUM0T69UMYAV"
   },
   "outputs": [],
   "source": [
    "# new_logits = logits - rate * acc_mean\n",
    "loss_operation = tf.losses.huber_loss(labels=y, predictions=logits)\n",
    "# loss_operation = tf.losses.mean_squared_error(labels=y, predictions=logits)"
   ]
  },
  {
   "cell_type": "code",
   "execution_count": 0,
   "metadata": {
    "colab": {},
    "colab_type": "code",
    "id": "KZbMaKiRDniS"
   },
   "outputs": [],
   "source": [
    "# grads_and_vars = optimizer.compute_gradients(loss_operation, tf.get_collection(tf.GraphKeys.TRAINABLE_VARIABLES))\n",
    "training_operation = optimizer.minimize(loss_operation, global_step=global_step)"
   ]
  },
  {
   "cell_type": "code",
   "execution_count": 0,
   "metadata": {
    "colab": {},
    "colab_type": "code",
    "id": "pNXql6ArbzF8"
   },
   "outputs": [],
   "source": [
    "def evaluate(a, b):\n",
    "    sess = tf.get_default_session()\n",
    "    answer = sess.run([logits], feed_dict={x:[[a, b]]})\n",
    "#     answer = sess.run([logits], feed_dict={x:[a]})\n",
    "    return round(answer[0][0][0])"
   ]
  },
  {
   "cell_type": "code",
   "execution_count": 8,
   "metadata": {
    "colab": {
     "base_uri": "https://localhost:8080/",
     "height": 153
    },
    "colab_type": "code",
    "executionInfo": {
     "elapsed": 7126,
     "status": "ok",
     "timestamp": 1535270982151,
     "user": {
      "displayName": "Sina Dezfuli",
      "photoUrl": "https://lh3.googleusercontent.com/a/default-user=s128",
      "userId": "104353125653323102051"
     },
     "user_tz": 360
    },
    "id": "g9yR_AeoMYAe",
    "outputId": "dd6838ec-0903-47d7-bfe5-808e29948b32"
   },
   "outputs": [
    {
     "name": "stdout",
     "output_type": "stream",
     "text": [
      "Training...\n",
      "\n",
      "5.0\n",
      "12.0\n",
      "21.0\n",
      "13.0\n",
      "36.0\n",
      "\n"
     ]
    }
   ],
   "source": [
    "from sklearn.utils import shuffle\n",
    "\n",
    "with tf.Session() as sess:\n",
    "    sess.run(tf.global_variables_initializer())\n",
    "    num_examples = len(X_train)\n",
    "    \n",
    "    print(\"Training...\")\n",
    "    print()\n",
    "    for i in range(EPOCHS):\n",
    "      X_train, Y_train = shuffle(X_train, Y_train)\n",
    "\n",
    "      for cnt in range(3):\n",
    "#           inp = np.reshape(X_train[cnt], [1,1])\n",
    "          inp = np.expand_dims(X_train[cnt], 0)\n",
    "        \n",
    "          _ = sess.run([training_operation], #, tf.get_default_graph().get_tensor_by_name(\"aug:0\")],\n",
    "#                                       feed_dict={x: inp, y: Y_train[cnt]})\n",
    "                                      feed_dict={x: np.expand_dims(X_train[cnt, :], 0), y: Y_train[cnt]})\n",
    "\n",
    "    print(evaluate(1, 4))\n",
    "#     answer = logits.eval(feed_dict={x:[[2, 5]]})\n",
    "    print(evaluate(2, 5))\n",
    "#     answer = logits.eval(feed_dict={x:[[3, 6]]})\n",
    "    print(evaluate(3, 6))\n",
    "#     answer = sess.run([logits], feed_dict={x:[[2, 3]]})\n",
    "#     print(round(answer[0][0][0]))\n",
    "    print(evaluate(2, 3))\n",
    "    print(evaluate(8, 11))\n",
    "    print()"
   ]
  }
 ],
 "metadata": {
  "accelerator": "GPU",
  "colab": {
   "collapsed_sections": [],
   "name": "Puzzle.ipynb",
   "provenance": [],
   "version": "0.3.2"
  },
  "kernelspec": {
   "display_name": "Python 3",
   "language": "python",
   "name": "python3"
  },
  "language_info": {
   "codemirror_mode": {
    "name": "ipython",
    "version": 3
   },
   "file_extension": ".py",
   "mimetype": "text/x-python",
   "name": "python",
   "nbconvert_exporter": "python",
   "pygments_lexer": "ipython3",
   "version": "3.6.8"
  }
 },
 "nbformat": 4,
 "nbformat_minor": 1
}
